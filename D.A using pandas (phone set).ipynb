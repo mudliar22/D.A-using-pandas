{
 "cells": [
  {
   "cell_type": "code",
   "execution_count": 2,
   "id": "56b3b028",
   "metadata": {},
   "outputs": [],
   "source": [
    "import pandas as pd"
   ]
  },
  {
   "cell_type": "code",
   "execution_count": 3,
   "id": "ab829727",
   "metadata": {},
   "outputs": [],
   "source": [
    "data = pd.read_csv(r\"C:\\Users\\ADMIN\\Downloads\\cleaned_all_phones (1).csv\")"
   ]
  },
  {
   "cell_type": "code",
   "execution_count": 4,
   "id": "1f594621",
   "metadata": {},
   "outputs": [],
   "source": [
    "d = data.copy()"
   ]
  },
  {
   "cell_type": "code",
   "execution_count": 5,
   "id": "5f4991e7",
   "metadata": {},
   "outputs": [
    {
     "data": {
      "text/html": [
       "<div>\n",
       "<style scoped>\n",
       "    .dataframe tbody tr th:only-of-type {\n",
       "        vertical-align: middle;\n",
       "    }\n",
       "\n",
       "    .dataframe tbody tr th {\n",
       "        vertical-align: top;\n",
       "    }\n",
       "\n",
       "    .dataframe thead th {\n",
       "        text-align: right;\n",
       "    }\n",
       "</style>\n",
       "<table border=\"1\" class=\"dataframe\">\n",
       "  <thead>\n",
       "    <tr style=\"text-align: right;\">\n",
       "      <th></th>\n",
       "      <th>phone_name</th>\n",
       "      <th>brand</th>\n",
       "      <th>os</th>\n",
       "      <th>inches</th>\n",
       "      <th>resolution</th>\n",
       "      <th>battery</th>\n",
       "      <th>battery_type</th>\n",
       "      <th>ram(GB)</th>\n",
       "      <th>announcement_date</th>\n",
       "      <th>weight(g)</th>\n",
       "      <th>...</th>\n",
       "      <th>video_1080p</th>\n",
       "      <th>video_4K</th>\n",
       "      <th>video_8K</th>\n",
       "      <th>video_30fps</th>\n",
       "      <th>video_60fps</th>\n",
       "      <th>video_120fps</th>\n",
       "      <th>video_240fps</th>\n",
       "      <th>video_480fps</th>\n",
       "      <th>video_960fps</th>\n",
       "      <th>price(USD)</th>\n",
       "    </tr>\n",
       "  </thead>\n",
       "  <tbody>\n",
       "    <tr>\n",
       "      <th>0</th>\n",
       "      <td>Y6II Compact</td>\n",
       "      <td>Huawei</td>\n",
       "      <td>Android 5.1</td>\n",
       "      <td>5.0</td>\n",
       "      <td>720x1280</td>\n",
       "      <td>2200</td>\n",
       "      <td>Li-Po</td>\n",
       "      <td>2</td>\n",
       "      <td>2016-09-01</td>\n",
       "      <td>140.0</td>\n",
       "      <td>...</td>\n",
       "      <td>False</td>\n",
       "      <td>False</td>\n",
       "      <td>False</td>\n",
       "      <td>True</td>\n",
       "      <td>False</td>\n",
       "      <td>False</td>\n",
       "      <td>False</td>\n",
       "      <td>False</td>\n",
       "      <td>False</td>\n",
       "      <td>120.0</td>\n",
       "    </tr>\n",
       "    <tr>\n",
       "      <th>1</th>\n",
       "      <td>K20 plus</td>\n",
       "      <td>LG</td>\n",
       "      <td>Android 7.0</td>\n",
       "      <td>5.3</td>\n",
       "      <td>720x1280</td>\n",
       "      <td>2700</td>\n",
       "      <td>Li-Ion</td>\n",
       "      <td>2</td>\n",
       "      <td>2016-12-01</td>\n",
       "      <td>140.0</td>\n",
       "      <td>...</td>\n",
       "      <td>True</td>\n",
       "      <td>False</td>\n",
       "      <td>False</td>\n",
       "      <td>True</td>\n",
       "      <td>False</td>\n",
       "      <td>False</td>\n",
       "      <td>False</td>\n",
       "      <td>False</td>\n",
       "      <td>False</td>\n",
       "      <td>100.0</td>\n",
       "    </tr>\n",
       "    <tr>\n",
       "      <th>2</th>\n",
       "      <td>P8 Lite (2017)</td>\n",
       "      <td>Huawei</td>\n",
       "      <td>Android 7.0</td>\n",
       "      <td>5.2</td>\n",
       "      <td>1080x1920</td>\n",
       "      <td>3000</td>\n",
       "      <td>Li-Ion</td>\n",
       "      <td>4</td>\n",
       "      <td>2017-01-01</td>\n",
       "      <td>147.0</td>\n",
       "      <td>...</td>\n",
       "      <td>True</td>\n",
       "      <td>False</td>\n",
       "      <td>False</td>\n",
       "      <td>True</td>\n",
       "      <td>False</td>\n",
       "      <td>False</td>\n",
       "      <td>False</td>\n",
       "      <td>False</td>\n",
       "      <td>False</td>\n",
       "      <td>420.0</td>\n",
       "    </tr>\n",
       "    <tr>\n",
       "      <th>3</th>\n",
       "      <td>Redmi Note 4</td>\n",
       "      <td>Xiaomi</td>\n",
       "      <td>Android 6.0</td>\n",
       "      <td>5.5</td>\n",
       "      <td>1080x1920</td>\n",
       "      <td>4100</td>\n",
       "      <td>Li-Po</td>\n",
       "      <td>4</td>\n",
       "      <td>2017-01-01</td>\n",
       "      <td>165.0</td>\n",
       "      <td>...</td>\n",
       "      <td>True</td>\n",
       "      <td>False</td>\n",
       "      <td>False</td>\n",
       "      <td>True</td>\n",
       "      <td>False</td>\n",
       "      <td>True</td>\n",
       "      <td>False</td>\n",
       "      <td>False</td>\n",
       "      <td>False</td>\n",
       "      <td>150.0</td>\n",
       "    </tr>\n",
       "    <tr>\n",
       "      <th>4</th>\n",
       "      <td>P10</td>\n",
       "      <td>Huawei</td>\n",
       "      <td>Android 7.0</td>\n",
       "      <td>5.1</td>\n",
       "      <td>1080x1920</td>\n",
       "      <td>3200</td>\n",
       "      <td>Li-Ion</td>\n",
       "      <td>4</td>\n",
       "      <td>2017-02-01</td>\n",
       "      <td>145.0</td>\n",
       "      <td>...</td>\n",
       "      <td>True</td>\n",
       "      <td>True</td>\n",
       "      <td>False</td>\n",
       "      <td>True</td>\n",
       "      <td>True</td>\n",
       "      <td>False</td>\n",
       "      <td>False</td>\n",
       "      <td>False</td>\n",
       "      <td>False</td>\n",
       "      <td>420.0</td>\n",
       "    </tr>\n",
       "  </tbody>\n",
       "</table>\n",
       "<p>5 rows × 22 columns</p>\n",
       "</div>"
      ],
      "text/plain": [
       "       phone_name   brand           os  inches resolution  battery  \\\n",
       "0    Y6II Compact  Huawei  Android 5.1     5.0   720x1280     2200   \n",
       "1        K20 plus      LG  Android 7.0     5.3   720x1280     2700   \n",
       "2  P8 Lite (2017)  Huawei  Android 7.0     5.2  1080x1920     3000   \n",
       "3    Redmi Note 4  Xiaomi  Android 6.0     5.5  1080x1920     4100   \n",
       "4             P10  Huawei  Android 7.0     5.1  1080x1920     3200   \n",
       "\n",
       "  battery_type  ram(GB) announcement_date  weight(g)  ...  video_1080p  \\\n",
       "0        Li-Po        2        2016-09-01      140.0  ...        False   \n",
       "1       Li-Ion        2        2016-12-01      140.0  ...         True   \n",
       "2       Li-Ion        4        2017-01-01      147.0  ...         True   \n",
       "3        Li-Po        4        2017-01-01      165.0  ...         True   \n",
       "4       Li-Ion        4        2017-02-01      145.0  ...         True   \n",
       "\n",
       "   video_4K  video_8K  video_30fps  video_60fps  video_120fps  video_240fps  \\\n",
       "0     False     False         True        False         False         False   \n",
       "1     False     False         True        False         False         False   \n",
       "2     False     False         True        False         False         False   \n",
       "3     False     False         True        False          True         False   \n",
       "4      True     False         True         True         False         False   \n",
       "\n",
       "   video_480fps  video_960fps  price(USD)  \n",
       "0         False         False       120.0  \n",
       "1         False         False       100.0  \n",
       "2         False         False       420.0  \n",
       "3         False         False       150.0  \n",
       "4         False         False       420.0  \n",
       "\n",
       "[5 rows x 22 columns]"
      ]
     },
     "execution_count": 5,
     "metadata": {},
     "output_type": "execute_result"
    }
   ],
   "source": [
    "d.head()"
   ]
  },
  {
   "cell_type": "code",
   "execution_count": 6,
   "id": "4ab7098e",
   "metadata": {},
   "outputs": [
    {
     "name": "stdout",
     "output_type": "stream",
     "text": [
      "<class 'pandas.core.frame.DataFrame'>\n",
      "RangeIndex: 1512 entries, 0 to 1511\n",
      "Data columns (total 22 columns):\n",
      " #   Column             Non-Null Count  Dtype  \n",
      "---  ------             --------------  -----  \n",
      " 0   phone_name         1512 non-null   object \n",
      " 1   brand              1512 non-null   object \n",
      " 2   os                 1512 non-null   object \n",
      " 3   inches             1512 non-null   float64\n",
      " 4   resolution         1512 non-null   object \n",
      " 5   battery            1512 non-null   int64  \n",
      " 6   battery_type       1512 non-null   object \n",
      " 7   ram(GB)            1512 non-null   int64  \n",
      " 8   announcement_date  1512 non-null   object \n",
      " 9   weight(g)          1512 non-null   float64\n",
      " 10  storage(GB)        1512 non-null   int64  \n",
      " 11  video_720p         1512 non-null   bool   \n",
      " 12  video_1080p        1512 non-null   bool   \n",
      " 13  video_4K           1512 non-null   bool   \n",
      " 14  video_8K           1512 non-null   bool   \n",
      " 15  video_30fps        1512 non-null   bool   \n",
      " 16  video_60fps        1512 non-null   bool   \n",
      " 17  video_120fps       1512 non-null   bool   \n",
      " 18  video_240fps       1512 non-null   bool   \n",
      " 19  video_480fps       1512 non-null   bool   \n",
      " 20  video_960fps       1512 non-null   bool   \n",
      " 21  price(USD)         1512 non-null   float64\n",
      "dtypes: bool(10), float64(3), int64(3), object(6)\n",
      "memory usage: 156.6+ KB\n"
     ]
    }
   ],
   "source": [
    "d.info()"
   ]
  },
  {
   "cell_type": "code",
   "execution_count": 13,
   "id": "834217b2",
   "metadata": {},
   "outputs": [],
   "source": [
    "#  how many unique mobile brands are there in the data provided"
   ]
  },
  {
   "cell_type": "code",
   "execution_count": 11,
   "id": "b0df7956",
   "metadata": {},
   "outputs": [
    {
     "data": {
      "text/plain": [
       "(13,)"
      ]
     },
     "execution_count": 11,
     "metadata": {},
     "output_type": "execute_result"
    }
   ],
   "source": [
    "d['brand'].unique().shape"
   ]
  },
  {
   "cell_type": "code",
   "execution_count": 17,
   "id": "804e4351",
   "metadata": {},
   "outputs": [],
   "source": [
    "# the total unique mobile are 13"
   ]
  },
  {
   "cell_type": "code",
   "execution_count": 18,
   "id": "7f694071",
   "metadata": {},
   "outputs": [],
   "source": [
    "# 2. what is the average ram size of all the collected data"
   ]
  },
  {
   "cell_type": "code",
   "execution_count": 30,
   "id": "5ebce0b7",
   "metadata": {},
   "outputs": [
    {
     "data": {
      "text/plain": [
       "6.6838624338624335"
      ]
     },
     "execution_count": 30,
     "metadata": {},
     "output_type": "execute_result"
    }
   ],
   "source": [
    "d['ram(GB)'].mean()"
   ]
  },
  {
   "cell_type": "code",
   "execution_count": 19,
   "id": "51de4b9a",
   "metadata": {},
   "outputs": [],
   "source": [
    "# the average ram size of all the data is 6.683862"
   ]
  },
  {
   "cell_type": "code",
   "execution_count": 25,
   "id": "d0b95975",
   "metadata": {},
   "outputs": [],
   "source": [
    "# 3.which phone is having the maximum and minimum battery capacity\n",
    "# 4.which phone brand is providing the highest and lowest ram"
   ]
  },
  {
   "cell_type": "code",
   "execution_count": 21,
   "id": "fdc4c466",
   "metadata": {},
   "outputs": [
    {
     "data": {
      "text/plain": [
       "phone_name           vivo iQOO Z7x\n",
       "brand                       Xiaomi\n",
       "os                          iOS 16\n",
       "inches                        10.4\n",
       "resolution                900x1600\n",
       "battery                       7250\n",
       "battery_type                 Li-Po\n",
       "ram(GB)                         24\n",
       "announcement_date       2023-08-31\n",
       "weight(g)                    500.0\n",
       "storage(GB)                    512\n",
       "video_720p                    True\n",
       "video_1080p                   True\n",
       "video_4K                      True\n",
       "video_8K                      True\n",
       "video_30fps                   True\n",
       "video_60fps                   True\n",
       "video_120fps                  True\n",
       "video_240fps                  True\n",
       "video_480fps                  True\n",
       "video_960fps                  True\n",
       "price(USD)                  2300.0\n",
       "dtype: object"
      ]
     },
     "execution_count": 21,
     "metadata": {},
     "output_type": "execute_result"
    }
   ],
   "source": [
    "d.apply(max,axis=0)"
   ]
  },
  {
   "cell_type": "code",
   "execution_count": 23,
   "id": "e0e5214e",
   "metadata": {},
   "outputs": [
    {
     "data": {
      "text/plain": [
       "phone_name                    1\n",
       "brand                     Apple\n",
       "os                      Android\n",
       "inches                      3.8\n",
       "resolution            1080x1920\n",
       "battery                    1821\n",
       "battery_type             Li-Ion\n",
       "ram(GB)                       1\n",
       "announcement_date    2016-09-01\n",
       "weight(g)                 130.0\n",
       "storage(GB)                   1\n",
       "video_720p                False\n",
       "video_1080p               False\n",
       "video_4K                  False\n",
       "video_8K                  False\n",
       "video_30fps               False\n",
       "video_60fps               False\n",
       "video_120fps              False\n",
       "video_240fps              False\n",
       "video_480fps              False\n",
       "video_960fps              False\n",
       "price(USD)                 40.0\n",
       "dtype: object"
      ]
     },
     "execution_count": 23,
     "metadata": {},
     "output_type": "execute_result"
    }
   ],
   "source": [
    "d.apply(min,axis=0)"
   ]
  },
  {
   "cell_type": "code",
   "execution_count": 26,
   "id": "b64ecfd9",
   "metadata": {},
   "outputs": [],
   "source": [
    "#  vivo iQOO Z7x as  maximum battery capacity and apple1 as minimum battery capacity\n",
    "# Xiaomi providing highest ram and apple providing lowest ram"
   ]
  },
  {
   "cell_type": "code",
   "execution_count": 27,
   "id": "94f682df",
   "metadata": {},
   "outputs": [],
   "source": [
    "# 5. what is the maximum battery capacity provided by huawei company"
   ]
  },
  {
   "cell_type": "code",
   "execution_count": 34,
   "id": "3f92ec54",
   "metadata": {},
   "outputs": [],
   "source": [
    "gp=d.groupby('brand')"
   ]
  },
  {
   "cell_type": "code",
   "execution_count": 39,
   "id": "3f1b6c1f",
   "metadata": {},
   "outputs": [
    {
     "data": {
      "text/html": [
       "<div>\n",
       "<style scoped>\n",
       "    .dataframe tbody tr th:only-of-type {\n",
       "        vertical-align: middle;\n",
       "    }\n",
       "\n",
       "    .dataframe tbody tr th {\n",
       "        vertical-align: top;\n",
       "    }\n",
       "\n",
       "    .dataframe thead th {\n",
       "        text-align: right;\n",
       "    }\n",
       "</style>\n",
       "<table border=\"1\" class=\"dataframe\">\n",
       "  <thead>\n",
       "    <tr style=\"text-align: right;\">\n",
       "      <th></th>\n",
       "      <th>phone_name</th>\n",
       "      <th>brand</th>\n",
       "      <th>os</th>\n",
       "      <th>inches</th>\n",
       "      <th>resolution</th>\n",
       "      <th>battery</th>\n",
       "      <th>battery_type</th>\n",
       "      <th>ram(GB)</th>\n",
       "      <th>announcement_date</th>\n",
       "      <th>weight(g)</th>\n",
       "      <th>...</th>\n",
       "      <th>video_1080p</th>\n",
       "      <th>video_4K</th>\n",
       "      <th>video_8K</th>\n",
       "      <th>video_30fps</th>\n",
       "      <th>video_60fps</th>\n",
       "      <th>video_120fps</th>\n",
       "      <th>video_240fps</th>\n",
       "      <th>video_480fps</th>\n",
       "      <th>video_960fps</th>\n",
       "      <th>price(USD)</th>\n",
       "    </tr>\n",
       "  </thead>\n",
       "  <tbody>\n",
       "    <tr>\n",
       "      <th>0</th>\n",
       "      <td>Y6II Compact</td>\n",
       "      <td>Huawei</td>\n",
       "      <td>Android 5.1</td>\n",
       "      <td>5.00</td>\n",
       "      <td>720x1280</td>\n",
       "      <td>2200</td>\n",
       "      <td>Li-Po</td>\n",
       "      <td>2</td>\n",
       "      <td>2016-09-01</td>\n",
       "      <td>140.0</td>\n",
       "      <td>...</td>\n",
       "      <td>False</td>\n",
       "      <td>False</td>\n",
       "      <td>False</td>\n",
       "      <td>True</td>\n",
       "      <td>False</td>\n",
       "      <td>False</td>\n",
       "      <td>False</td>\n",
       "      <td>False</td>\n",
       "      <td>False</td>\n",
       "      <td>120.00</td>\n",
       "    </tr>\n",
       "    <tr>\n",
       "      <th>2</th>\n",
       "      <td>P8 Lite (2017)</td>\n",
       "      <td>Huawei</td>\n",
       "      <td>Android 7.0</td>\n",
       "      <td>5.20</td>\n",
       "      <td>1080x1920</td>\n",
       "      <td>3000</td>\n",
       "      <td>Li-Ion</td>\n",
       "      <td>4</td>\n",
       "      <td>2017-01-01</td>\n",
       "      <td>147.0</td>\n",
       "      <td>...</td>\n",
       "      <td>True</td>\n",
       "      <td>False</td>\n",
       "      <td>False</td>\n",
       "      <td>True</td>\n",
       "      <td>False</td>\n",
       "      <td>False</td>\n",
       "      <td>False</td>\n",
       "      <td>False</td>\n",
       "      <td>False</td>\n",
       "      <td>420.00</td>\n",
       "    </tr>\n",
       "    <tr>\n",
       "      <th>4</th>\n",
       "      <td>P10</td>\n",
       "      <td>Huawei</td>\n",
       "      <td>Android 7.0</td>\n",
       "      <td>5.10</td>\n",
       "      <td>1080x1920</td>\n",
       "      <td>3200</td>\n",
       "      <td>Li-Ion</td>\n",
       "      <td>4</td>\n",
       "      <td>2017-02-01</td>\n",
       "      <td>145.0</td>\n",
       "      <td>...</td>\n",
       "      <td>True</td>\n",
       "      <td>True</td>\n",
       "      <td>False</td>\n",
       "      <td>True</td>\n",
       "      <td>True</td>\n",
       "      <td>False</td>\n",
       "      <td>False</td>\n",
       "      <td>False</td>\n",
       "      <td>False</td>\n",
       "      <td>420.00</td>\n",
       "    </tr>\n",
       "    <tr>\n",
       "      <th>6</th>\n",
       "      <td>P10 Lite</td>\n",
       "      <td>Huawei</td>\n",
       "      <td>Android 7.0</td>\n",
       "      <td>5.20</td>\n",
       "      <td>1080x1920</td>\n",
       "      <td>3000</td>\n",
       "      <td>Li-Po</td>\n",
       "      <td>4</td>\n",
       "      <td>2017-02-01</td>\n",
       "      <td>146.0</td>\n",
       "      <td>...</td>\n",
       "      <td>True</td>\n",
       "      <td>False</td>\n",
       "      <td>False</td>\n",
       "      <td>True</td>\n",
       "      <td>False</td>\n",
       "      <td>False</td>\n",
       "      <td>False</td>\n",
       "      <td>False</td>\n",
       "      <td>False</td>\n",
       "      <td>420.00</td>\n",
       "    </tr>\n",
       "    <tr>\n",
       "      <th>7</th>\n",
       "      <td>P10 Plus</td>\n",
       "      <td>Huawei</td>\n",
       "      <td>Android 7.0</td>\n",
       "      <td>5.50</td>\n",
       "      <td>1440x2560</td>\n",
       "      <td>3750</td>\n",
       "      <td>Li-Ion</td>\n",
       "      <td>6</td>\n",
       "      <td>2017-02-01</td>\n",
       "      <td>165.0</td>\n",
       "      <td>...</td>\n",
       "      <td>True</td>\n",
       "      <td>True</td>\n",
       "      <td>False</td>\n",
       "      <td>True</td>\n",
       "      <td>True</td>\n",
       "      <td>False</td>\n",
       "      <td>False</td>\n",
       "      <td>False</td>\n",
       "      <td>False</td>\n",
       "      <td>170.00</td>\n",
       "    </tr>\n",
       "    <tr>\n",
       "      <th>...</th>\n",
       "      <td>...</td>\n",
       "      <td>...</td>\n",
       "      <td>...</td>\n",
       "      <td>...</td>\n",
       "      <td>...</td>\n",
       "      <td>...</td>\n",
       "      <td>...</td>\n",
       "      <td>...</td>\n",
       "      <td>...</td>\n",
       "      <td>...</td>\n",
       "      <td>...</td>\n",
       "      <td>...</td>\n",
       "      <td>...</td>\n",
       "      <td>...</td>\n",
       "      <td>...</td>\n",
       "      <td>...</td>\n",
       "      <td>...</td>\n",
       "      <td>...</td>\n",
       "      <td>...</td>\n",
       "      <td>...</td>\n",
       "      <td>...</td>\n",
       "    </tr>\n",
       "    <tr>\n",
       "      <th>1296</th>\n",
       "      <td>nova 10 SE</td>\n",
       "      <td>Huawei</td>\n",
       "      <td>EMUI 12</td>\n",
       "      <td>6.67</td>\n",
       "      <td>1080x2400</td>\n",
       "      <td>4500</td>\n",
       "      <td>Li-Po</td>\n",
       "      <td>8</td>\n",
       "      <td>2022-10-05</td>\n",
       "      <td>184.0</td>\n",
       "      <td>...</td>\n",
       "      <td>True</td>\n",
       "      <td>False</td>\n",
       "      <td>False</td>\n",
       "      <td>True</td>\n",
       "      <td>False</td>\n",
       "      <td>False</td>\n",
       "      <td>False</td>\n",
       "      <td>False</td>\n",
       "      <td>False</td>\n",
       "      <td>311.87</td>\n",
       "    </tr>\n",
       "    <tr>\n",
       "      <th>1312</th>\n",
       "      <td>nova Y61</td>\n",
       "      <td>Huawei</td>\n",
       "      <td>EMUI 12</td>\n",
       "      <td>6.52</td>\n",
       "      <td>720x1600</td>\n",
       "      <td>5000</td>\n",
       "      <td>Li-Po</td>\n",
       "      <td>6</td>\n",
       "      <td>2022-11-01</td>\n",
       "      <td>188.0</td>\n",
       "      <td>...</td>\n",
       "      <td>True</td>\n",
       "      <td>False</td>\n",
       "      <td>False</td>\n",
       "      <td>True</td>\n",
       "      <td>False</td>\n",
       "      <td>False</td>\n",
       "      <td>False</td>\n",
       "      <td>False</td>\n",
       "      <td>False</td>\n",
       "      <td>189.30</td>\n",
       "    </tr>\n",
       "    <tr>\n",
       "      <th>1430</th>\n",
       "      <td>nova 11i</td>\n",
       "      <td>Huawei</td>\n",
       "      <td>EMUI 13</td>\n",
       "      <td>6.80</td>\n",
       "      <td>1080x2388</td>\n",
       "      <td>5000</td>\n",
       "      <td>Li-Po</td>\n",
       "      <td>8</td>\n",
       "      <td>2023-05-01</td>\n",
       "      <td>193.0</td>\n",
       "      <td>...</td>\n",
       "      <td>True</td>\n",
       "      <td>False</td>\n",
       "      <td>False</td>\n",
       "      <td>True</td>\n",
       "      <td>False</td>\n",
       "      <td>False</td>\n",
       "      <td>False</td>\n",
       "      <td>False</td>\n",
       "      <td>False</td>\n",
       "      <td>279.00</td>\n",
       "    </tr>\n",
       "    <tr>\n",
       "      <th>1433</th>\n",
       "      <td>nova Y71</td>\n",
       "      <td>Huawei</td>\n",
       "      <td>EMUI 12</td>\n",
       "      <td>6.75</td>\n",
       "      <td>720x1600</td>\n",
       "      <td>6000</td>\n",
       "      <td>Li-Po</td>\n",
       "      <td>8</td>\n",
       "      <td>2023-05-09</td>\n",
       "      <td>199.0</td>\n",
       "      <td>...</td>\n",
       "      <td>True</td>\n",
       "      <td>False</td>\n",
       "      <td>False</td>\n",
       "      <td>True</td>\n",
       "      <td>False</td>\n",
       "      <td>False</td>\n",
       "      <td>False</td>\n",
       "      <td>False</td>\n",
       "      <td>False</td>\n",
       "      <td>190.00</td>\n",
       "    </tr>\n",
       "    <tr>\n",
       "      <th>1448</th>\n",
       "      <td>nova Y91</td>\n",
       "      <td>Huawei</td>\n",
       "      <td>EMUI 13</td>\n",
       "      <td>6.95</td>\n",
       "      <td>1080x2376</td>\n",
       "      <td>7000</td>\n",
       "      <td>Li-Po</td>\n",
       "      <td>8</td>\n",
       "      <td>2023-05-23</td>\n",
       "      <td>214.0</td>\n",
       "      <td>...</td>\n",
       "      <td>True</td>\n",
       "      <td>False</td>\n",
       "      <td>False</td>\n",
       "      <td>True</td>\n",
       "      <td>False</td>\n",
       "      <td>False</td>\n",
       "      <td>False</td>\n",
       "      <td>False</td>\n",
       "      <td>False</td>\n",
       "      <td>280.00</td>\n",
       "    </tr>\n",
       "  </tbody>\n",
       "</table>\n",
       "<p>137 rows × 22 columns</p>\n",
       "</div>"
      ],
      "text/plain": [
       "          phone_name   brand           os  inches resolution  battery  \\\n",
       "0       Y6II Compact  Huawei  Android 5.1    5.00   720x1280     2200   \n",
       "2     P8 Lite (2017)  Huawei  Android 7.0    5.20  1080x1920     3000   \n",
       "4                P10  Huawei  Android 7.0    5.10  1080x1920     3200   \n",
       "6           P10 Lite  Huawei  Android 7.0    5.20  1080x1920     3000   \n",
       "7           P10 Plus  Huawei  Android 7.0    5.50  1440x2560     3750   \n",
       "...              ...     ...          ...     ...        ...      ...   \n",
       "1296      nova 10 SE  Huawei      EMUI 12    6.67  1080x2400     4500   \n",
       "1312        nova Y61  Huawei      EMUI 12    6.52   720x1600     5000   \n",
       "1430        nova 11i  Huawei      EMUI 13    6.80  1080x2388     5000   \n",
       "1433        nova Y71  Huawei      EMUI 12    6.75   720x1600     6000   \n",
       "1448        nova Y91  Huawei      EMUI 13    6.95  1080x2376     7000   \n",
       "\n",
       "     battery_type  ram(GB) announcement_date  weight(g)  ...  video_1080p  \\\n",
       "0           Li-Po        2        2016-09-01      140.0  ...        False   \n",
       "2          Li-Ion        4        2017-01-01      147.0  ...         True   \n",
       "4          Li-Ion        4        2017-02-01      145.0  ...         True   \n",
       "6           Li-Po        4        2017-02-01      146.0  ...         True   \n",
       "7          Li-Ion        6        2017-02-01      165.0  ...         True   \n",
       "...           ...      ...               ...        ...  ...          ...   \n",
       "1296        Li-Po        8        2022-10-05      184.0  ...         True   \n",
       "1312        Li-Po        6        2022-11-01      188.0  ...         True   \n",
       "1430        Li-Po        8        2023-05-01      193.0  ...         True   \n",
       "1433        Li-Po        8        2023-05-09      199.0  ...         True   \n",
       "1448        Li-Po        8        2023-05-23      214.0  ...         True   \n",
       "\n",
       "      video_4K  video_8K  video_30fps  video_60fps  video_120fps  \\\n",
       "0        False     False         True        False         False   \n",
       "2        False     False         True        False         False   \n",
       "4         True     False         True         True         False   \n",
       "6        False     False         True        False         False   \n",
       "7         True     False         True         True         False   \n",
       "...        ...       ...          ...          ...           ...   \n",
       "1296     False     False         True        False         False   \n",
       "1312     False     False         True        False         False   \n",
       "1430     False     False         True        False         False   \n",
       "1433     False     False         True        False         False   \n",
       "1448     False     False         True        False         False   \n",
       "\n",
       "      video_240fps  video_480fps  video_960fps  price(USD)  \n",
       "0            False         False         False      120.00  \n",
       "2            False         False         False      420.00  \n",
       "4            False         False         False      420.00  \n",
       "6            False         False         False      420.00  \n",
       "7            False         False         False      170.00  \n",
       "...            ...           ...           ...         ...  \n",
       "1296         False         False         False      311.87  \n",
       "1312         False         False         False      189.30  \n",
       "1430         False         False         False      279.00  \n",
       "1433         False         False         False      190.00  \n",
       "1448         False         False         False      280.00  \n",
       "\n",
       "[137 rows x 22 columns]"
      ]
     },
     "execution_count": 39,
     "metadata": {},
     "output_type": "execute_result"
    }
   ],
   "source": [
    "gp.get_group(\"Huawei\")"
   ]
  },
  {
   "cell_type": "code",
   "execution_count": 40,
   "id": "af2d6a4d",
   "metadata": {},
   "outputs": [],
   "source": [
    "# the maximum battery capacity provided by Huawei is 7000"
   ]
  },
  {
   "cell_type": "code",
   "execution_count": 46,
   "id": "bd86e9d4",
   "metadata": {},
   "outputs": [],
   "source": [
    "# how many phones has andriod 7.0 as there operating system"
   ]
  },
  {
   "cell_type": "code",
   "execution_count": 45,
   "id": "e8467fb3",
   "metadata": {},
   "outputs": [
    {
     "data": {
      "text/plain": [
       "33"
      ]
     },
     "execution_count": 45,
     "metadata": {},
     "output_type": "execute_result"
    }
   ],
   "source": [
    "g = d.groupby('os')\n",
    "len(g.get_group(\"Android 7.0\"))"
   ]
  },
  {
   "cell_type": "code",
   "execution_count": 47,
   "id": "79c06ea0",
   "metadata": {},
   "outputs": [],
   "source": [
    "# 33 phones has andriod 7.0 as there operating system"
   ]
  },
  {
   "cell_type": "code",
   "execution_count": 48,
   "id": "84199869",
   "metadata": {},
   "outputs": [],
   "source": [
    "# 7.which phone is the oldest"
   ]
  },
  {
   "cell_type": "code",
   "execution_count": 54,
   "id": "1a4b719c",
   "metadata": {},
   "outputs": [
    {
     "data": {
      "text/plain": [
       "Timestamp('2016-09-01 00:00:00')"
      ]
     },
     "execution_count": 54,
     "metadata": {},
     "output_type": "execute_result"
    }
   ],
   "source": [
    "pd.to_datetime(d['announcement_date']).iloc[0]"
   ]
  },
  {
   "cell_type": "code",
   "execution_count": 55,
   "id": "7226d951",
   "metadata": {},
   "outputs": [
    {
     "data": {
      "text/plain": [
       "phone_name           Y6II Compact\n",
       "brand                      Huawei\n",
       "os                    Android 5.1\n",
       "inches                        5.0\n",
       "resolution               720x1280\n",
       "battery                      2200\n",
       "battery_type                Li-Po\n",
       "ram(GB)                         2\n",
       "announcement_date      2016-09-01\n",
       "weight(g)                   140.0\n",
       "storage(GB)                    16\n",
       "video_720p                   True\n",
       "video_1080p                 False\n",
       "video_4K                    False\n",
       "video_8K                    False\n",
       "video_30fps                  True\n",
       "video_60fps                 False\n",
       "video_120fps                False\n",
       "video_240fps                False\n",
       "video_480fps                False\n",
       "video_960fps                False\n",
       "price(USD)                  120.0\n",
       "Name: 0, dtype: object"
      ]
     },
     "execution_count": 55,
     "metadata": {},
     "output_type": "execute_result"
    }
   ],
   "source": [
    "phone=d.sort_values('announcement_date').iloc[0]\n",
    "phone"
   ]
  },
  {
   "cell_type": "code",
   "execution_count": 56,
   "id": "fccb37f1",
   "metadata": {},
   "outputs": [],
   "source": [
    "# Y6II Compact is oldest phone"
   ]
  },
  {
   "cell_type": "code",
   "execution_count": 57,
   "id": "d2a747dd",
   "metadata": {},
   "outputs": [],
   "source": [
    "# 8.which brand produced maximum number of phones in the given data"
   ]
  },
  {
   "cell_type": "code",
   "execution_count": 59,
   "id": "1e0d897d",
   "metadata": {},
   "outputs": [
    {
     "data": {
      "text/plain": [
       "'Xiaomi'"
      ]
     },
     "execution_count": 59,
     "metadata": {},
     "output_type": "execute_result"
    }
   ],
   "source": [
    "d['brand'].value_counts().idxmax()"
   ]
  },
  {
   "cell_type": "code",
   "execution_count": 60,
   "id": "0a0e23e9",
   "metadata": {},
   "outputs": [],
   "source": [
    "# Xiaomi brand produced maximum number of phones in the given data"
   ]
  },
  {
   "cell_type": "code",
   "execution_count": 65,
   "id": "d0beb011",
   "metadata": {},
   "outputs": [],
   "source": [
    "# 9.give the count of phones supporting\n",
    "# 1.4k video 2. 8k video 3. 2k video"
   ]
  },
  {
   "cell_type": "code",
   "execution_count": 69,
   "id": "6feca774",
   "metadata": {},
   "outputs": [],
   "source": [
    "a=d.loc[d['video_4K']==True].shape\n",
    "b=d.loc[d['video_8K']==True].shape\n",
    "c=d.loc[d['video_1080p']==True].shape"
   ]
  },
  {
   "cell_type": "code",
   "execution_count": 71,
   "id": "b8e87168",
   "metadata": {},
   "outputs": [
    {
     "name": "stdout",
     "output_type": "stream",
     "text": [
      "(801, 22)\n",
      "(86, 22)\n",
      "(1503, 22)\n"
     ]
    }
   ],
   "source": [
    "print(a)\n",
    "print(b)\n",
    "print(c)"
   ]
  },
  {
   "cell_type": "code",
   "execution_count": 72,
   "id": "7618b7dd",
   "metadata": {},
   "outputs": [],
   "source": [
    "# 801 phones supporting 4k video\n",
    "# 86  phones supporting 8k video\n",
    "# 1503 phones supporting 2k video"
   ]
  },
  {
   "cell_type": "code",
   "execution_count": 93,
   "id": "0f2bd828",
   "metadata": {},
   "outputs": [],
   "source": [
    "# 10.how many phones supports li-po & li-ion battery"
   ]
  },
  {
   "cell_type": "code",
   "execution_count": 81,
   "id": "182fdebc",
   "metadata": {},
   "outputs": [],
   "source": [
    "t= d.loc[(d[\"battery_type\"]==\"Li-Po\")| (d[\"battery_type\"]==\"Li-Ion\")].shape"
   ]
  },
  {
   "cell_type": "code",
   "execution_count": 82,
   "id": "2953f220",
   "metadata": {},
   "outputs": [
    {
     "data": {
      "text/plain": [
       "(1512, 22)"
      ]
     },
     "execution_count": 82,
     "metadata": {},
     "output_type": "execute_result"
    }
   ],
   "source": [
    "t"
   ]
  },
  {
   "cell_type": "code",
   "execution_count": 83,
   "id": "9331bbb5",
   "metadata": {},
   "outputs": [],
   "source": [
    "# 1512  phones supports li-po & li-ion battery"
   ]
  },
  {
   "cell_type": "code",
   "execution_count": 94,
   "id": "c30880af",
   "metadata": {},
   "outputs": [],
   "source": [
    "# 11.how many sony phones supports 720x1280 resolution"
   ]
  },
  {
   "cell_type": "code",
   "execution_count": 90,
   "id": "7c089630",
   "metadata": {},
   "outputs": [],
   "source": [
    "t1 = d.loc[(d[\"brand\"]==\"Sony\")& (d['resolution']=='720x1280')]"
   ]
  },
  {
   "cell_type": "code",
   "execution_count": 92,
   "id": "5533c263",
   "metadata": {},
   "outputs": [
    {
     "data": {
      "text/plain": [
       "(5, 22)"
      ]
     },
     "execution_count": 92,
     "metadata": {},
     "output_type": "execute_result"
    }
   ],
   "source": [
    "t1.shape"
   ]
  },
  {
   "cell_type": "code",
   "execution_count": 95,
   "id": "2af2f1d1",
   "metadata": {},
   "outputs": [],
   "source": [
    "# 5 sony phones supports 720x1280 resolution"
   ]
  },
  {
   "cell_type": "code",
   "execution_count": 96,
   "id": "1513de4a",
   "metadata": {},
   "outputs": [],
   "source": [
    "# 12.print a pivot table for finding th avg weights,total weights,based on brand and battery type"
   ]
  },
  {
   "cell_type": "code",
   "execution_count": 97,
   "id": "ddf69cb9",
   "metadata": {},
   "outputs": [
    {
     "data": {
      "text/html": [
       "<div>\n",
       "<style scoped>\n",
       "    .dataframe tbody tr th:only-of-type {\n",
       "        vertical-align: middle;\n",
       "    }\n",
       "\n",
       "    .dataframe tbody tr th {\n",
       "        vertical-align: top;\n",
       "    }\n",
       "\n",
       "    .dataframe thead th {\n",
       "        text-align: right;\n",
       "    }\n",
       "</style>\n",
       "<table border=\"1\" class=\"dataframe\">\n",
       "  <thead>\n",
       "    <tr style=\"text-align: right;\">\n",
       "      <th></th>\n",
       "      <th></th>\n",
       "      <th>Average Height</th>\n",
       "      <th>Total Weight</th>\n",
       "    </tr>\n",
       "    <tr>\n",
       "      <th>brand</th>\n",
       "      <th>battery_type</th>\n",
       "      <th></th>\n",
       "      <th></th>\n",
       "    </tr>\n",
       "  </thead>\n",
       "  <tbody>\n",
       "    <tr>\n",
       "      <th>Apple</th>\n",
       "      <th>Li-Ion</th>\n",
       "      <td>186.227273</td>\n",
       "      <td>4097.0</td>\n",
       "    </tr>\n",
       "    <tr>\n",
       "      <th rowspan=\"2\" valign=\"top\">Google</th>\n",
       "      <th>Li-Ion</th>\n",
       "      <td>190.666667</td>\n",
       "      <td>1144.0</td>\n",
       "    </tr>\n",
       "    <tr>\n",
       "      <th>Li-Po</th>\n",
       "      <td>176.923077</td>\n",
       "      <td>2300.0</td>\n",
       "    </tr>\n",
       "    <tr>\n",
       "      <th rowspan=\"2\" valign=\"top\">Honor</th>\n",
       "      <th>Li-Ion</th>\n",
       "      <td>165.333333</td>\n",
       "      <td>496.0</td>\n",
       "    </tr>\n",
       "    <tr>\n",
       "      <th>Li-Po</th>\n",
       "      <td>190.611570</td>\n",
       "      <td>23064.0</td>\n",
       "    </tr>\n",
       "    <tr>\n",
       "      <th rowspan=\"2\" valign=\"top\">Huawei</th>\n",
       "      <th>Li-Ion</th>\n",
       "      <td>158.354839</td>\n",
       "      <td>4909.0</td>\n",
       "    </tr>\n",
       "    <tr>\n",
       "      <th>Li-Po</th>\n",
       "      <td>187.556604</td>\n",
       "      <td>19881.0</td>\n",
       "    </tr>\n",
       "    <tr>\n",
       "      <th rowspan=\"2\" valign=\"top\">LG</th>\n",
       "      <th>Li-Ion</th>\n",
       "      <td>154.851852</td>\n",
       "      <td>4181.0</td>\n",
       "    </tr>\n",
       "    <tr>\n",
       "      <th>Li-Po</th>\n",
       "      <td>183.812500</td>\n",
       "      <td>8823.0</td>\n",
       "    </tr>\n",
       "    <tr>\n",
       "      <th rowspan=\"2\" valign=\"top\">Lenovo</th>\n",
       "      <th>Li-Ion</th>\n",
       "      <td>190.142857</td>\n",
       "      <td>2662.0</td>\n",
       "    </tr>\n",
       "    <tr>\n",
       "      <th>Li-Po</th>\n",
       "      <td>218.586207</td>\n",
       "      <td>6339.0</td>\n",
       "    </tr>\n",
       "    <tr>\n",
       "      <th>OnePlus</th>\n",
       "      <th>Li-Po</th>\n",
       "      <td>191.553191</td>\n",
       "      <td>9003.0</td>\n",
       "    </tr>\n",
       "    <tr>\n",
       "      <th rowspan=\"2\" valign=\"top\">Oppo</th>\n",
       "      <th>Li-Ion</th>\n",
       "      <td>157.833333</td>\n",
       "      <td>3788.0</td>\n",
       "    </tr>\n",
       "    <tr>\n",
       "      <th>Li-Po</th>\n",
       "      <td>183.174603</td>\n",
       "      <td>34620.0</td>\n",
       "    </tr>\n",
       "    <tr>\n",
       "      <th rowspan=\"2\" valign=\"top\">Realme</th>\n",
       "      <th>Li-Ion</th>\n",
       "      <td>166.833333</td>\n",
       "      <td>1001.0</td>\n",
       "    </tr>\n",
       "    <tr>\n",
       "      <th>Li-Po</th>\n",
       "      <td>189.688742</td>\n",
       "      <td>28643.0</td>\n",
       "    </tr>\n",
       "    <tr>\n",
       "      <th rowspan=\"2\" valign=\"top\">Samsung</th>\n",
       "      <th>Li-Ion</th>\n",
       "      <td>178.531250</td>\n",
       "      <td>17139.0</td>\n",
       "    </tr>\n",
       "    <tr>\n",
       "      <th>Li-Po</th>\n",
       "      <td>196.727273</td>\n",
       "      <td>21640.0</td>\n",
       "    </tr>\n",
       "    <tr>\n",
       "      <th rowspan=\"2\" valign=\"top\">Sony</th>\n",
       "      <th>Li-Ion</th>\n",
       "      <td>177.333333</td>\n",
       "      <td>4256.0</td>\n",
       "    </tr>\n",
       "    <tr>\n",
       "      <th>Li-Po</th>\n",
       "      <td>178.769231</td>\n",
       "      <td>2324.0</td>\n",
       "    </tr>\n",
       "    <tr>\n",
       "      <th>Vivo</th>\n",
       "      <th>Li-Po</th>\n",
       "      <td>190.232143</td>\n",
       "      <td>31959.0</td>\n",
       "    </tr>\n",
       "    <tr>\n",
       "      <th rowspan=\"2\" valign=\"top\">Xiaomi</th>\n",
       "      <th>Li-Ion</th>\n",
       "      <td>179.294118</td>\n",
       "      <td>3048.0</td>\n",
       "    </tr>\n",
       "    <tr>\n",
       "      <th>Li-Po</th>\n",
       "      <td>195.906883</td>\n",
       "      <td>48389.0</td>\n",
       "    </tr>\n",
       "  </tbody>\n",
       "</table>\n",
       "</div>"
      ],
      "text/plain": [
       "                      Average Height  Total Weight\n",
       "brand   battery_type                              \n",
       "Apple   Li-Ion            186.227273        4097.0\n",
       "Google  Li-Ion            190.666667        1144.0\n",
       "        Li-Po             176.923077        2300.0\n",
       "Honor   Li-Ion            165.333333         496.0\n",
       "        Li-Po             190.611570       23064.0\n",
       "Huawei  Li-Ion            158.354839        4909.0\n",
       "        Li-Po             187.556604       19881.0\n",
       "LG      Li-Ion            154.851852        4181.0\n",
       "        Li-Po             183.812500        8823.0\n",
       "Lenovo  Li-Ion            190.142857        2662.0\n",
       "        Li-Po             218.586207        6339.0\n",
       "OnePlus Li-Po             191.553191        9003.0\n",
       "Oppo    Li-Ion            157.833333        3788.0\n",
       "        Li-Po             183.174603       34620.0\n",
       "Realme  Li-Ion            166.833333        1001.0\n",
       "        Li-Po             189.688742       28643.0\n",
       "Samsung Li-Ion            178.531250       17139.0\n",
       "        Li-Po             196.727273       21640.0\n",
       "Sony    Li-Ion            177.333333        4256.0\n",
       "        Li-Po             178.769231        2324.0\n",
       "Vivo    Li-Po             190.232143       31959.0\n",
       "Xiaomi  Li-Ion            179.294118        3048.0\n",
       "        Li-Po             195.906883       48389.0"
      ]
     },
     "execution_count": 97,
     "metadata": {},
     "output_type": "execute_result"
    }
   ],
   "source": [
    "p_t=d.pivot_table(values=\"weight(g)\",index=[\"brand\",'battery_type'],aggfunc={'weight(g)':['mean',\"sum\"]})\n",
    "\n",
    "p_t.columns=[\"Average Height\",\"Total Weight\"]\n",
    "p_t"
   ]
  },
  {
   "cell_type": "code",
   "execution_count": null,
   "id": "40605a88",
   "metadata": {},
   "outputs": [],
   "source": []
  }
 ],
 "metadata": {
  "kernelspec": {
   "display_name": "Python 3 (ipykernel)",
   "language": "python",
   "name": "python3"
  },
  "language_info": {
   "codemirror_mode": {
    "name": "ipython",
    "version": 3
   },
   "file_extension": ".py",
   "mimetype": "text/x-python",
   "name": "python",
   "nbconvert_exporter": "python",
   "pygments_lexer": "ipython3",
   "version": "3.11.3"
  }
 },
 "nbformat": 4,
 "nbformat_minor": 5
}
