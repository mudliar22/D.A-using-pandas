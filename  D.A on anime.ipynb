{
 "cells": [
  {
   "cell_type": "code",
   "execution_count": 1,
   "id": "e73fd53f",
   "metadata": {},
   "outputs": [],
   "source": [
    "import pandas as pd\n",
    "import numpy as np"
   ]
  },
  {
   "cell_type": "code",
   "execution_count": 2,
   "id": "412f7cca",
   "metadata": {},
   "outputs": [],
   "source": [
    "data = pd.read_csv(r\"C:\\Users\\ADMIN\\Downloads\\imdb_anime.csv\")"
   ]
  },
  {
   "cell_type": "code",
   "execution_count": 3,
   "id": "365ff19a",
   "metadata": {},
   "outputs": [],
   "source": [
    "d = data.copy()"
   ]
  },
  {
   "cell_type": "code",
   "execution_count": 4,
   "id": "a4f7d0cf",
   "metadata": {},
   "outputs": [
    {
     "name": "stdout",
     "output_type": "stream",
     "text": [
      "<class 'pandas.core.frame.DataFrame'>\n",
      "RangeIndex: 45717 entries, 0 to 45716\n",
      "Data columns (total 13 columns):\n",
      " #   Column           Non-Null Count  Dtype \n",
      "---  ------           --------------  ----- \n",
      " 0   Title            45717 non-null  object\n",
      " 1   Genre            45717 non-null  object\n",
      " 2   User Rating      25009 non-null  object\n",
      " 3   Number of Votes  25009 non-null  object\n",
      " 4   Runtime          32549 non-null  object\n",
      " 5   Year             45591 non-null  object\n",
      " 6   Summary          23547 non-null  object\n",
      " 7   Stars            13676 non-null  object\n",
      " 8   Certificate      28694 non-null  object\n",
      " 9   Metascore        341 non-null    object\n",
      " 10  Gross            25009 non-null  object\n",
      " 11  Episode          45717 non-null  object\n",
      " 12  Episode Title    34910 non-null  object\n",
      "dtypes: object(13)\n",
      "memory usage: 4.5+ MB\n"
     ]
    }
   ],
   "source": [
    "d.info()"
   ]
  },
  {
   "cell_type": "code",
   "execution_count": 5,
   "id": "2539367e",
   "metadata": {},
   "outputs": [
    {
     "data": {
      "text/html": [
       "<div>\n",
       "<style scoped>\n",
       "    .dataframe tbody tr th:only-of-type {\n",
       "        vertical-align: middle;\n",
       "    }\n",
       "\n",
       "    .dataframe tbody tr th {\n",
       "        vertical-align: top;\n",
       "    }\n",
       "\n",
       "    .dataframe thead th {\n",
       "        text-align: right;\n",
       "    }\n",
       "</style>\n",
       "<table border=\"1\" class=\"dataframe\">\n",
       "  <thead>\n",
       "    <tr style=\"text-align: right;\">\n",
       "      <th></th>\n",
       "      <th>Title</th>\n",
       "      <th>Genre</th>\n",
       "      <th>User Rating</th>\n",
       "      <th>Number of Votes</th>\n",
       "      <th>Runtime</th>\n",
       "      <th>Year</th>\n",
       "      <th>Summary</th>\n",
       "      <th>Stars</th>\n",
       "      <th>Certificate</th>\n",
       "      <th>Metascore</th>\n",
       "      <th>Gross</th>\n",
       "      <th>Episode</th>\n",
       "      <th>Episode Title</th>\n",
       "    </tr>\n",
       "  </thead>\n",
       "  <tbody>\n",
       "    <tr>\n",
       "      <th>0</th>\n",
       "      <td>One Piece</td>\n",
       "      <td>Animation, Action, Adventure</td>\n",
       "      <td>8.9</td>\n",
       "      <td>187,689</td>\n",
       "      <td>24 min</td>\n",
       "      <td>(1999– )</td>\n",
       "      <td>Follows the adventures of Monkey D. Luffy and ...</td>\n",
       "      <td>Mayumi Tanaka,Laurent Vernin,Akemi Okamura,Ton...</td>\n",
       "      <td>TV-14</td>\n",
       "      <td>NaN</td>\n",
       "      <td>187689</td>\n",
       "      <td>0</td>\n",
       "      <td>NaN</td>\n",
       "    </tr>\n",
       "    <tr>\n",
       "      <th>1</th>\n",
       "      <td>Teenage Mutant Ninja Turtles: Mutant Mayhem</td>\n",
       "      <td>Animation, Action, Adventure</td>\n",
       "      <td>7.4</td>\n",
       "      <td>28,895</td>\n",
       "      <td>99 min</td>\n",
       "      <td>(2023)</td>\n",
       "      <td>The film follows the Turtle brothers as they w...</td>\n",
       "      <td>NaN</td>\n",
       "      <td>PG</td>\n",
       "      <td>74</td>\n",
       "      <td>28895</td>\n",
       "      <td>0</td>\n",
       "      <td>NaN</td>\n",
       "    </tr>\n",
       "    <tr>\n",
       "      <th>2</th>\n",
       "      <td>The Super Mario Bros. Movie</td>\n",
       "      <td>Animation, Adventure, Comedy</td>\n",
       "      <td>7.1</td>\n",
       "      <td>189,108</td>\n",
       "      <td>92 min</td>\n",
       "      <td>(2023)</td>\n",
       "      <td>A plumber named Mario travels through an under...</td>\n",
       "      <td>NaN</td>\n",
       "      <td>PG</td>\n",
       "      <td>46</td>\n",
       "      <td>189108</td>\n",
       "      <td>0</td>\n",
       "      <td>NaN</td>\n",
       "    </tr>\n",
       "    <tr>\n",
       "      <th>3</th>\n",
       "      <td>Attack on Titan</td>\n",
       "      <td>Animation, Action, Adventure</td>\n",
       "      <td>9.1</td>\n",
       "      <td>434,457</td>\n",
       "      <td>24 min</td>\n",
       "      <td>(2013–2023)</td>\n",
       "      <td>After his hometown is destroyed and his mother...</td>\n",
       "      <td>Josh Grelle,Bryce Papenbrook,Yûki Kaji,Yui Ish...</td>\n",
       "      <td>TV-MA</td>\n",
       "      <td>NaN</td>\n",
       "      <td>434457</td>\n",
       "      <td>0</td>\n",
       "      <td>NaN</td>\n",
       "    </tr>\n",
       "    <tr>\n",
       "      <th>4</th>\n",
       "      <td>Jujutsu Kaisen</td>\n",
       "      <td>Animation, Action, Adventure</td>\n",
       "      <td>8.5</td>\n",
       "      <td>82,909</td>\n",
       "      <td>24 min</td>\n",
       "      <td>(2020– )</td>\n",
       "      <td>A boy swallows a cursed talisman - the finger ...</td>\n",
       "      <td>Junya Enoki,Yûichi Nakamura,Adam McArthur,Yuma...</td>\n",
       "      <td>TV-MA</td>\n",
       "      <td>NaN</td>\n",
       "      <td>82909</td>\n",
       "      <td>0</td>\n",
       "      <td>NaN</td>\n",
       "    </tr>\n",
       "  </tbody>\n",
       "</table>\n",
       "</div>"
      ],
      "text/plain": [
       "                                         Title                         Genre  \\\n",
       "0                                    One Piece  Animation, Action, Adventure   \n",
       "1  Teenage Mutant Ninja Turtles: Mutant Mayhem  Animation, Action, Adventure   \n",
       "2                  The Super Mario Bros. Movie  Animation, Adventure, Comedy   \n",
       "3                              Attack on Titan  Animation, Action, Adventure   \n",
       "4                               Jujutsu Kaisen  Animation, Action, Adventure   \n",
       "\n",
       "  User Rating Number of Votes Runtime         Year  \\\n",
       "0         8.9         187,689  24 min     (1999– )   \n",
       "1         7.4          28,895  99 min       (2023)   \n",
       "2         7.1         189,108  92 min       (2023)   \n",
       "3         9.1         434,457  24 min  (2013–2023)   \n",
       "4         8.5          82,909  24 min     (2020– )   \n",
       "\n",
       "                                             Summary  \\\n",
       "0  Follows the adventures of Monkey D. Luffy and ...   \n",
       "1  The film follows the Turtle brothers as they w...   \n",
       "2  A plumber named Mario travels through an under...   \n",
       "3  After his hometown is destroyed and his mother...   \n",
       "4  A boy swallows a cursed talisman - the finger ...   \n",
       "\n",
       "                                               Stars Certificate   Metascore  \\\n",
       "0  Mayumi Tanaka,Laurent Vernin,Akemi Okamura,Ton...       TV-14         NaN   \n",
       "1                                                NaN          PG  74           \n",
       "2                                                NaN          PG  46           \n",
       "3  Josh Grelle,Bryce Papenbrook,Yûki Kaji,Yui Ish...       TV-MA         NaN   \n",
       "4  Junya Enoki,Yûichi Nakamura,Adam McArthur,Yuma...       TV-MA         NaN   \n",
       "\n",
       "    Gross Episode Episode Title  \n",
       "0  187689       0           NaN  \n",
       "1   28895       0           NaN  \n",
       "2  189108       0           NaN  \n",
       "3  434457       0           NaN  \n",
       "4   82909       0           NaN  "
      ]
     },
     "execution_count": 5,
     "metadata": {},
     "output_type": "execute_result"
    }
   ],
   "source": [
    "d.head()"
   ]
  },
  {
   "cell_type": "code",
   "execution_count": 6,
   "id": "1d646c25",
   "metadata": {},
   "outputs": [],
   "source": [
    " # 1.How many unique anime are there?\n"
   ]
  },
  {
   "cell_type": "code",
   "execution_count": 9,
   "id": "e80eda03",
   "metadata": {},
   "outputs": [
    {
     "data": {
      "text/plain": [
       "(9851,)"
      ]
     },
     "execution_count": 9,
     "metadata": {},
     "output_type": "execute_result"
    }
   ],
   "source": [
    "d['Title'].unique().shape"
   ]
  },
  {
   "cell_type": "code",
   "execution_count": 10,
   "id": "e134c83b",
   "metadata": {},
   "outputs": [],
   "source": [
    "# 9851 unique anime are there"
   ]
  },
  {
   "cell_type": "code",
   "execution_count": 7,
   "id": "a632474a",
   "metadata": {},
   "outputs": [],
   "source": [
    "\n",
    "d.fillna({\"Title\":\"no title\",\"Genre\":\"no genre\",\"User Rating\":0,\"Number of Votes\":0,\"Runtime\":\"10\",\"Year\":0,\"Summary\":\"no summary\",\"Stars\":\"no stars\",\"Certificate\":\"no certificate\",\"Metascore\":0,\"Gross\":10,\"Episode\":0,\"Episode Title\":\"no\"},inplace=True)"
   ]
  },
  {
   "cell_type": "code",
   "execution_count": 8,
   "id": "7e88f4d5",
   "metadata": {},
   "outputs": [],
   "source": [
    "d.replace({\"User Rating\":{\"User Rating\":0},\"Number of Votes\":{\"Number of Votes\":0},\"Runtime\":{\"Runtime\":\"10\"},\"Metascore\":{\"Metascore\":0},\"Gross\":{\"Gross\":10},\"Episode\":{\"Episode\":0}},inplace=True)\n"
   ]
  },
  {
   "cell_type": "code",
   "execution_count": 9,
   "id": "87e65514",
   "metadata": {},
   "outputs": [],
   "source": [
    "d=d.astype({\"User Rating\":float,\"Metascore\":int,\"Gross\":int,\"Episode\":int,\"Year\":str})"
   ]
  },
  {
   "cell_type": "code",
   "execution_count": 11,
   "id": "3eec2cc4",
   "metadata": {},
   "outputs": [
    {
     "name": "stdout",
     "output_type": "stream",
     "text": [
      "<class 'pandas.core.frame.DataFrame'>\n",
      "RangeIndex: 45717 entries, 0 to 45716\n",
      "Data columns (total 13 columns):\n",
      " #   Column           Non-Null Count  Dtype  \n",
      "---  ------           --------------  -----  \n",
      " 0   Title            45717 non-null  object \n",
      " 1   Genre            45717 non-null  object \n",
      " 2   User Rating      45717 non-null  float64\n",
      " 3   Number of Votes  45717 non-null  object \n",
      " 4   Runtime          45717 non-null  object \n",
      " 5   Year             45717 non-null  object \n",
      " 6   Summary          45717 non-null  object \n",
      " 7   Stars            45717 non-null  object \n",
      " 8   Certificate      45717 non-null  object \n",
      " 9   Metascore        45717 non-null  int32  \n",
      " 10  Gross            45717 non-null  int32  \n",
      " 11  Episode          45717 non-null  int32  \n",
      " 12  Episode Title    45717 non-null  object \n",
      "dtypes: float64(1), int32(3), object(9)\n",
      "memory usage: 4.0+ MB\n"
     ]
    }
   ],
   "source": [
    "d.info()"
   ]
  },
  {
   "cell_type": "code",
   "execution_count": 12,
   "id": "3a40b868",
   "metadata": {},
   "outputs": [],
   "source": [
    "# 2.Which anime have the highest rating"
   ]
  },
  {
   "cell_type": "code",
   "execution_count": 13,
   "id": "5ebd980e",
   "metadata": {},
   "outputs": [],
   "source": [
    "d.fillna( {'User Rating':0},inplace=True)"
   ]
  },
  {
   "cell_type": "code",
   "execution_count": 14,
   "id": "b1b40684",
   "metadata": {},
   "outputs": [],
   "source": [
    "d['User Rating'].replace({'User Rating':1.0},inplace=True)"
   ]
  },
  {
   "cell_type": "code",
   "execution_count": 15,
   "id": "27d7e088",
   "metadata": {},
   "outputs": [],
   "source": [
    "d=d.astype({'User Rating':np.float32})"
   ]
  },
  {
   "cell_type": "code",
   "execution_count": 21,
   "id": "66c9fb97",
   "metadata": {},
   "outputs": [
    {
     "data": {
      "text/html": [
       "<div>\n",
       "<style scoped>\n",
       "    .dataframe tbody tr th:only-of-type {\n",
       "        vertical-align: middle;\n",
       "    }\n",
       "\n",
       "    .dataframe tbody tr th {\n",
       "        vertical-align: top;\n",
       "    }\n",
       "\n",
       "    .dataframe thead th {\n",
       "        text-align: right;\n",
       "    }\n",
       "</style>\n",
       "<table border=\"1\" class=\"dataframe\">\n",
       "  <thead>\n",
       "    <tr style=\"text-align: right;\">\n",
       "      <th></th>\n",
       "      <th>Title</th>\n",
       "      <th>User Rating</th>\n",
       "    </tr>\n",
       "  </thead>\n",
       "  <tbody>\n",
       "    <tr>\n",
       "      <th>13656</th>\n",
       "      <td>Idaten Jump</td>\n",
       "      <td>9.9</td>\n",
       "    </tr>\n",
       "    <tr>\n",
       "      <th>17874</th>\n",
       "      <td>Vinland Saga</td>\n",
       "      <td>9.9</td>\n",
       "    </tr>\n",
       "    <tr>\n",
       "      <th>22753</th>\n",
       "      <td>Attack on Titan</td>\n",
       "      <td>9.9</td>\n",
       "    </tr>\n",
       "    <tr>\n",
       "      <th>34677</th>\n",
       "      <td>Hunter x Hunter</td>\n",
       "      <td>9.9</td>\n",
       "    </tr>\n",
       "    <tr>\n",
       "      <th>39614</th>\n",
       "      <td>Legend of the Galactic Heroes</td>\n",
       "      <td>9.9</td>\n",
       "    </tr>\n",
       "    <tr>\n",
       "      <th>45689</th>\n",
       "      <td>Attack on Titan</td>\n",
       "      <td>9.9</td>\n",
       "    </tr>\n",
       "  </tbody>\n",
       "</table>\n",
       "</div>"
      ],
      "text/plain": [
       "                               Title  User Rating\n",
       "13656                    Idaten Jump          9.9\n",
       "17874                   Vinland Saga          9.9\n",
       "22753                Attack on Titan          9.9\n",
       "34677                Hunter x Hunter          9.9\n",
       "39614  Legend of the Galactic Heroes          9.9\n",
       "45689                Attack on Titan          9.9"
      ]
     },
     "execution_count": 21,
     "metadata": {},
     "output_type": "execute_result"
    }
   ],
   "source": [
    "d.loc[d['User Rating']==d[\"User Rating\"].max(),[\"Title\",\"User Rating\"]]"
   ]
  },
  {
   "cell_type": "code",
   "execution_count": 1,
   "id": "80c65600",
   "metadata": {},
   "outputs": [],
   "source": [
    "# 3. Which anime has a rating between 7.0 to 9.0?\n"
   ]
  },
  {
   "cell_type": "code",
   "execution_count": 25,
   "id": "994e755c",
   "metadata": {},
   "outputs": [],
   "source": [
    "a = d.loc[(d[\"User Rating\"]>=7.0) & (d[\"User Rating\"]<9.0),\"Title\"].unique()"
   ]
  },
  {
   "cell_type": "code",
   "execution_count": 26,
   "id": "f55f8d19",
   "metadata": {},
   "outputs": [
    {
     "data": {
      "text/plain": [
       "array(['One Piece', 'Teenage Mutant Ninja Turtles: Mutant Mayhem',\n",
       "       'The Super Mario Bros. Movie', ..., 'Blade Runner: Black Lotus',\n",
       "       'Hero Mask', 'Juuni Taisen'], dtype=object)"
      ]
     },
     "execution_count": 26,
     "metadata": {},
     "output_type": "execute_result"
    }
   ],
   "source": [
    "a"
   ]
  },
  {
   "cell_type": "code",
   "execution_count": 27,
   "id": "e80219f9",
   "metadata": {},
   "outputs": [
    {
     "data": {
      "text/plain": [
       "3107"
      ]
     },
     "execution_count": 27,
     "metadata": {},
     "output_type": "execute_result"
    }
   ],
   "source": [
    "len(a)"
   ]
  },
  {
   "cell_type": "code",
   "execution_count": 2,
   "id": "fc850b8a",
   "metadata": {},
   "outputs": [],
   "source": [
    "# 4.Which anime has the highest and lowest runtime?"
   ]
  },
  {
   "cell_type": "code",
   "execution_count": null,
   "id": "3321ed61",
   "metadata": {},
   "outputs": [],
   "source": []
  },
  {
   "cell_type": "code",
   "execution_count": 3,
   "id": "0196ab96",
   "metadata": {},
   "outputs": [],
   "source": [
    "# 5.What is the runtime difference between one Piece and the super mario bros movie?\n"
   ]
  },
  {
   "cell_type": "code",
   "execution_count": 4,
   "id": "5ce38350",
   "metadata": {},
   "outputs": [],
   "source": [
    "# 6.Which is the oldest anime?"
   ]
  },
  {
   "cell_type": "code",
   "execution_count": 5,
   "id": "774d7abc",
   "metadata": {},
   "outputs": [],
   "source": [
    "# 7. List all the anime that were released in the year 2023."
   ]
  },
  {
   "cell_type": "code",
   "execution_count": 9,
   "id": "5f53288a",
   "metadata": {},
   "outputs": [
    {
     "data": {
      "text/html": [
       "<div>\n",
       "<style scoped>\n",
       "    .dataframe tbody tr th:only-of-type {\n",
       "        vertical-align: middle;\n",
       "    }\n",
       "\n",
       "    .dataframe tbody tr th {\n",
       "        vertical-align: top;\n",
       "    }\n",
       "\n",
       "    .dataframe thead th {\n",
       "        text-align: right;\n",
       "    }\n",
       "</style>\n",
       "<table border=\"1\" class=\"dataframe\">\n",
       "  <thead>\n",
       "    <tr style=\"text-align: right;\">\n",
       "      <th></th>\n",
       "      <th>Title</th>\n",
       "    </tr>\n",
       "  </thead>\n",
       "  <tbody>\n",
       "    <tr>\n",
       "      <th>1</th>\n",
       "      <td>Teenage Mutant Ninja Turtles: Mutant Mayhem</td>\n",
       "    </tr>\n",
       "    <tr>\n",
       "      <th>2</th>\n",
       "      <td>The Super Mario Bros. Movie</td>\n",
       "    </tr>\n",
       "    <tr>\n",
       "      <th>13</th>\n",
       "      <td>The Boy and the Heron</td>\n",
       "    </tr>\n",
       "    <tr>\n",
       "      <th>21</th>\n",
       "      <td>Ruby Gillman, Teenage Kraken</td>\n",
       "    </tr>\n",
       "    <tr>\n",
       "      <th>42</th>\n",
       "      <td>Resident Evil: Death Island</td>\n",
       "    </tr>\n",
       "    <tr>\n",
       "      <th>...</th>\n",
       "      <td>...</td>\n",
       "    </tr>\n",
       "    <tr>\n",
       "      <th>7965</th>\n",
       "      <td>Yomawari Neko</td>\n",
       "    </tr>\n",
       "    <tr>\n",
       "      <th>8558</th>\n",
       "      <td>Girls und Panzer das Finale: Part IV</td>\n",
       "    </tr>\n",
       "    <tr>\n",
       "      <th>8605</th>\n",
       "      <td>Jinzô Mahô Shôjo Kaini</td>\n",
       "    </tr>\n",
       "    <tr>\n",
       "      <th>8840</th>\n",
       "      <td>The Dog &amp; The Boy</td>\n",
       "    </tr>\n",
       "    <tr>\n",
       "      <th>10314</th>\n",
       "      <td>The Floating World</td>\n",
       "    </tr>\n",
       "  </tbody>\n",
       "</table>\n",
       "<p>105 rows × 1 columns</p>\n",
       "</div>"
      ],
      "text/plain": [
       "                                             Title\n",
       "1      Teenage Mutant Ninja Turtles: Mutant Mayhem\n",
       "2                      The Super Mario Bros. Movie\n",
       "13                           The Boy and the Heron\n",
       "21                    Ruby Gillman, Teenage Kraken\n",
       "42                     Resident Evil: Death Island\n",
       "...                                            ...\n",
       "7965                                 Yomawari Neko\n",
       "8558          Girls und Panzer das Finale: Part IV\n",
       "8605                        Jinzô Mahô Shôjo Kaini\n",
       "8840                             The Dog & The Boy\n",
       "10314                           The Floating World\n",
       "\n",
       "[105 rows x 1 columns]"
      ]
     },
     "execution_count": 9,
     "metadata": {},
     "output_type": "execute_result"
    }
   ],
   "source": [
    "d.loc[d['Year']=='(2023)',['Title']]"
   ]
  },
  {
   "cell_type": "code",
   "execution_count": 6,
   "id": "8ffae6a2",
   "metadata": {},
   "outputs": [],
   "source": [
    "# 8.What is the average user rating of the anime which belong to the action genre?\n"
   ]
  },
  {
   "cell_type": "code",
   "execution_count": 7,
   "id": "96b9f575",
   "metadata": {},
   "outputs": [],
   "source": [
    "# 9.Which anime has the lowest gross price?\n"
   ]
  },
  {
   "cell_type": "code",
   "execution_count": 11,
   "id": "13bd7814",
   "metadata": {},
   "outputs": [
    {
     "data": {
      "text/plain": [
       "Title    One Piece\n",
       "Gross       187689\n",
       "Name: 0, dtype: object"
      ]
     },
     "execution_count": 11,
     "metadata": {},
     "output_type": "execute_result"
    }
   ],
   "source": [
    "d['Gross'].fillna(0, inplace=True)\n",
    "d['Gross'].replace({'Gross': 0}, inplace=True)\n",
    "d['Gross'] = d['Gross'].astype(np.int64)\n",
    "d.loc[d['Gross'].min(),['Title','Gross']]"
   ]
  },
  {
   "cell_type": "code",
   "execution_count": 8,
   "id": "a7a6ba3d",
   "metadata": {},
   "outputs": [],
   "source": [
    "# 10.Which anime has the highest gross price?\n"
   ]
  },
  {
   "cell_type": "code",
   "execution_count": 12,
   "id": "8ecb89ce",
   "metadata": {},
   "outputs": [
    {
     "data": {
      "text/html": [
       "<div>\n",
       "<style scoped>\n",
       "    .dataframe tbody tr th:only-of-type {\n",
       "        vertical-align: middle;\n",
       "    }\n",
       "\n",
       "    .dataframe tbody tr th {\n",
       "        vertical-align: top;\n",
       "    }\n",
       "\n",
       "    .dataframe thead th {\n",
       "        text-align: right;\n",
       "    }\n",
       "</style>\n",
       "<table border=\"1\" class=\"dataframe\">\n",
       "  <thead>\n",
       "    <tr style=\"text-align: right;\">\n",
       "      <th></th>\n",
       "      <th>Title</th>\n",
       "      <th>Gross</th>\n",
       "    </tr>\n",
       "  </thead>\n",
       "  <tbody>\n",
       "    <tr>\n",
       "      <th>47</th>\n",
       "      <td>WALL·E</td>\n",
       "      <td>1162284</td>\n",
       "    </tr>\n",
       "    <tr>\n",
       "      <th>888</th>\n",
       "      <td>WALL·E</td>\n",
       "      <td>1162284</td>\n",
       "    </tr>\n",
       "  </tbody>\n",
       "</table>\n",
       "</div>"
      ],
      "text/plain": [
       "      Title    Gross\n",
       "47   WALL·E  1162284\n",
       "888  WALL·E  1162284"
      ]
     },
     "execution_count": 12,
     "metadata": {},
     "output_type": "execute_result"
    }
   ],
   "source": [
    "data.loc[d['Gross']==d['Gross'].max(),['Title','Gross']]"
   ]
  },
  {
   "cell_type": "code",
   "execution_count": 9,
   "id": "bc14ea69",
   "metadata": {},
   "outputs": [],
   "source": [
    "# 11.How many anime have the PG certification?"
   ]
  },
  {
   "cell_type": "code",
   "execution_count": 13,
   "id": "4d16b611",
   "metadata": {},
   "outputs": [
    {
     "data": {
      "text/plain": [
       "425"
      ]
     },
     "execution_count": 13,
     "metadata": {},
     "output_type": "execute_result"
    }
   ],
   "source": [
    "len(data.loc[data['Certificate']=='PG',['Title']])"
   ]
  },
  {
   "cell_type": "code",
   "execution_count": 10,
   "id": "0a6406bd",
   "metadata": {},
   "outputs": [],
   "source": [
    "# 12.What is the average number of votes in your dataset?"
   ]
  }
 ],
 "metadata": {
  "kernelspec": {
   "display_name": "Python 3 (ipykernel)",
   "language": "python",
   "name": "python3"
  },
  "language_info": {
   "codemirror_mode": {
    "name": "ipython",
    "version": 3
   },
   "file_extension": ".py",
   "mimetype": "text/x-python",
   "name": "python",
   "nbconvert_exporter": "python",
   "pygments_lexer": "ipython3",
   "version": "3.11.3"
  }
 },
 "nbformat": 4,
 "nbformat_minor": 5
}
