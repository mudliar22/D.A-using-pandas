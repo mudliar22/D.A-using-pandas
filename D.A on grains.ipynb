{
 "cells": [
  {
   "cell_type": "code",
   "execution_count": 1,
   "id": "7ec24d5d",
   "metadata": {},
   "outputs": [],
   "source": [
    "import pandas as pd\n",
    "import numpy as np "
   ]
  },
  {
   "cell_type": "code",
   "execution_count": 2,
   "id": "c05d5182",
   "metadata": {},
   "outputs": [],
   "source": [
    "data = pd.read_csv(r\"C:\\Users\\ADMIN\\Downloads\\all_grains_data.csv\")"
   ]
  },
  {
   "cell_type": "code",
   "execution_count": 3,
   "id": "05e88312",
   "metadata": {},
   "outputs": [],
   "source": [
    "d = data.copy()"
   ]
  },
  {
   "cell_type": "code",
   "execution_count": 4,
   "id": "fd51a198",
   "metadata": {},
   "outputs": [
    {
     "data": {
      "text/html": [
       "<div>\n",
       "<style scoped>\n",
       "    .dataframe tbody tr th:only-of-type {\n",
       "        vertical-align: middle;\n",
       "    }\n",
       "\n",
       "    .dataframe tbody tr th {\n",
       "        vertical-align: top;\n",
       "    }\n",
       "\n",
       "    .dataframe thead th {\n",
       "        text-align: right;\n",
       "    }\n",
       "</style>\n",
       "<table border=\"1\" class=\"dataframe\">\n",
       "  <thead>\n",
       "    <tr style=\"text-align: right;\">\n",
       "      <th></th>\n",
       "      <th>ticker</th>\n",
       "      <th>commodity</th>\n",
       "      <th>date</th>\n",
       "      <th>open</th>\n",
       "      <th>high</th>\n",
       "      <th>low</th>\n",
       "      <th>close</th>\n",
       "      <th>volume</th>\n",
       "    </tr>\n",
       "  </thead>\n",
       "  <tbody>\n",
       "    <tr>\n",
       "      <th>0</th>\n",
       "      <td>ZC=F</td>\n",
       "      <td>Corn</td>\n",
       "      <td>2000-07-17</td>\n",
       "      <td>182.25</td>\n",
       "      <td>182.25</td>\n",
       "      <td>178.25</td>\n",
       "      <td>179.25</td>\n",
       "      <td>19385</td>\n",
       "    </tr>\n",
       "    <tr>\n",
       "      <th>1</th>\n",
       "      <td>ZC=F</td>\n",
       "      <td>Corn</td>\n",
       "      <td>2000-07-18</td>\n",
       "      <td>179.00</td>\n",
       "      <td>183.25</td>\n",
       "      <td>179.00</td>\n",
       "      <td>180.75</td>\n",
       "      <td>25205</td>\n",
       "    </tr>\n",
       "    <tr>\n",
       "      <th>2</th>\n",
       "      <td>ZC=F</td>\n",
       "      <td>Corn</td>\n",
       "      <td>2000-07-19</td>\n",
       "      <td>180.00</td>\n",
       "      <td>182.75</td>\n",
       "      <td>178.75</td>\n",
       "      <td>182.00</td>\n",
       "      <td>17126</td>\n",
       "    </tr>\n",
       "    <tr>\n",
       "      <th>3</th>\n",
       "      <td>ZC=F</td>\n",
       "      <td>Corn</td>\n",
       "      <td>2000-07-20</td>\n",
       "      <td>181.50</td>\n",
       "      <td>187.00</td>\n",
       "      <td>181.00</td>\n",
       "      <td>186.00</td>\n",
       "      <td>18742</td>\n",
       "    </tr>\n",
       "    <tr>\n",
       "      <th>4</th>\n",
       "      <td>ZC=F</td>\n",
       "      <td>Corn</td>\n",
       "      <td>2000-07-21</td>\n",
       "      <td>185.50</td>\n",
       "      <td>188.00</td>\n",
       "      <td>185.00</td>\n",
       "      <td>187.75</td>\n",
       "      <td>16814</td>\n",
       "    </tr>\n",
       "  </tbody>\n",
       "</table>\n",
       "</div>"
      ],
      "text/plain": [
       "  ticker commodity        date    open    high     low   close  volume\n",
       "0   ZC=F      Corn  2000-07-17  182.25  182.25  178.25  179.25   19385\n",
       "1   ZC=F      Corn  2000-07-18  179.00  183.25  179.00  180.75   25205\n",
       "2   ZC=F      Corn  2000-07-19  180.00  182.75  178.75  182.00   17126\n",
       "3   ZC=F      Corn  2000-07-20  181.50  187.00  181.00  186.00   18742\n",
       "4   ZC=F      Corn  2000-07-21  185.50  188.00  185.00  187.75   16814"
      ]
     },
     "execution_count": 4,
     "metadata": {},
     "output_type": "execute_result"
    }
   ],
   "source": [
    "d.head()"
   ]
  },
  {
   "cell_type": "code",
   "execution_count": 5,
   "id": "39e66fa5",
   "metadata": {},
   "outputs": [
    {
     "name": "stdout",
     "output_type": "stream",
     "text": [
      "<class 'pandas.core.frame.DataFrame'>\n",
      "RangeIndex: 34883 entries, 0 to 34882\n",
      "Data columns (total 8 columns):\n",
      " #   Column     Non-Null Count  Dtype  \n",
      "---  ------     --------------  -----  \n",
      " 0   ticker     34883 non-null  object \n",
      " 1   commodity  34883 non-null  object \n",
      " 2   date       34883 non-null  object \n",
      " 3   open       34883 non-null  float64\n",
      " 4   high       34883 non-null  float64\n",
      " 5   low        34883 non-null  float64\n",
      " 6   close      34883 non-null  float64\n",
      " 7   volume     34883 non-null  int64  \n",
      "dtypes: float64(4), int64(1), object(3)\n",
      "memory usage: 2.1+ MB\n"
     ]
    }
   ],
   "source": [
    "d.info()"
   ]
  },
  {
   "cell_type": "code",
   "execution_count": 7,
   "id": "776d26ef",
   "metadata": {},
   "outputs": [
    {
     "data": {
      "text/plain": [
       "Index(['ticker', 'commodity', 'date', 'open', 'high', 'low', 'close',\n",
       "       'volume'],\n",
       "      dtype='object')"
      ]
     },
     "execution_count": 7,
     "metadata": {},
     "output_type": "execute_result"
    }
   ],
   "source": [
    "d.columns"
   ]
  },
  {
   "cell_type": "markdown",
   "id": "9199fbb9",
   "metadata": {},
   "source": [
    "# 1.Which commodity was having the highest opening price for the day"
   ]
  },
  {
   "cell_type": "code",
   "execution_count": 9,
   "id": "9e869788",
   "metadata": {},
   "outputs": [
    {
     "data": {
      "text/html": [
       "<div>\n",
       "<style scoped>\n",
       "    .dataframe tbody tr th:only-of-type {\n",
       "        vertical-align: middle;\n",
       "    }\n",
       "\n",
       "    .dataframe tbody tr th {\n",
       "        vertical-align: top;\n",
       "    }\n",
       "\n",
       "    .dataframe thead th {\n",
       "        text-align: right;\n",
       "    }\n",
       "</style>\n",
       "<table border=\"1\" class=\"dataframe\">\n",
       "  <thead>\n",
       "    <tr style=\"text-align: right;\">\n",
       "      <th></th>\n",
       "      <th>commodity</th>\n",
       "      <th>open</th>\n",
       "    </tr>\n",
       "  </thead>\n",
       "  <tbody>\n",
       "    <tr>\n",
       "      <th>19437</th>\n",
       "      <td>Rough Rice</td>\n",
       "      <td>2435.0</td>\n",
       "    </tr>\n",
       "  </tbody>\n",
       "</table>\n",
       "</div>"
      ],
      "text/plain": [
       "        commodity    open\n",
       "19437  Rough Rice  2435.0"
      ]
     },
     "execution_count": 9,
     "metadata": {},
     "output_type": "execute_result"
    }
   ],
   "source": [
    "d.loc[d[\"open\"]==d[\"open\"].max(),[\"commodity\",\"open\"]]"
   ]
  },
  {
   "cell_type": "code",
   "execution_count": 10,
   "id": "3a611575",
   "metadata": {},
   "outputs": [],
   "source": [
    "# Rough Rice commodity was having the highest opening price for the day"
   ]
  },
  {
   "cell_type": "markdown",
   "id": "de473156",
   "metadata": {},
   "source": [
    "# 2. Which commodity price reached maximum during the trading session"
   ]
  },
  {
   "cell_type": "code",
   "execution_count": 13,
   "id": "9b5a46e0",
   "metadata": {},
   "outputs": [
    {
     "data": {
      "text/html": [
       "<div>\n",
       "<style scoped>\n",
       "    .dataframe tbody tr th:only-of-type {\n",
       "        vertical-align: middle;\n",
       "    }\n",
       "\n",
       "    .dataframe tbody tr th {\n",
       "        vertical-align: top;\n",
       "    }\n",
       "\n",
       "    .dataframe thead th {\n",
       "        text-align: right;\n",
       "    }\n",
       "</style>\n",
       "<table border=\"1\" class=\"dataframe\">\n",
       "  <thead>\n",
       "    <tr style=\"text-align: right;\">\n",
       "      <th></th>\n",
       "      <th>commodity</th>\n",
       "      <th>high</th>\n",
       "    </tr>\n",
       "  </thead>\n",
       "  <tbody>\n",
       "    <tr>\n",
       "      <th>19437</th>\n",
       "      <td>Rough Rice</td>\n",
       "      <td>2468.5</td>\n",
       "    </tr>\n",
       "  </tbody>\n",
       "</table>\n",
       "</div>"
      ],
      "text/plain": [
       "        commodity    high\n",
       "19437  Rough Rice  2468.5"
      ]
     },
     "execution_count": 13,
     "metadata": {},
     "output_type": "execute_result"
    }
   ],
   "source": [
    "d.loc[d[\"high\"]==d[\"high\"].max(),[\"commodity\",\"high\"]]"
   ]
  },
  {
   "cell_type": "code",
   "execution_count": 14,
   "id": "9a337b8c",
   "metadata": {},
   "outputs": [],
   "source": [
    "# Rough Rice commodity price reached maximum during the trading session"
   ]
  },
  {
   "cell_type": "markdown",
   "id": "fcb9d8c4",
   "metadata": {},
   "source": [
    "# 3.What is the average Market's opening price for the Oat in 2010"
   ]
  },
  {
   "cell_type": "code",
   "execution_count": 18,
   "id": "466db136",
   "metadata": {},
   "outputs": [
    {
     "data": {
      "text/plain": [
       "open    275.116071\n",
       "dtype: float64"
      ]
     },
     "execution_count": 18,
     "metadata": {},
     "output_type": "execute_result"
    }
   ],
   "source": [
    "d[\"date\"]=pd.to_datetime(d[\"date\"])\n",
    "d.loc[(d[\"date\"].dt.year==2010) & (d[\"commodity\"]==\"Oat\"),[\"open\"]].mean()"
   ]
  },
  {
   "cell_type": "code",
   "execution_count": 19,
   "id": "40cb153a",
   "metadata": {},
   "outputs": [],
   "source": [
    "# 275.116071 the average Market's opening price for the Oat in 2010"
   ]
  },
  {
   "cell_type": "markdown",
   "id": "8d4c914b",
   "metadata": {},
   "source": [
    "# 4.What is the maximum and minimum Number of contracts traded during the 2009"
   ]
  },
  {
   "cell_type": "code",
   "execution_count": 25,
   "id": "baa4f889",
   "metadata": {},
   "outputs": [
    {
     "name": "stdout",
     "output_type": "stream",
     "text": [
      "maximum Number of contracts traded during the 2009 is volume    252221\n",
      "dtype: int64\n",
      "minimum Number of contracts traded during the 2009 is volume    0\n",
      "dtype: int64\n"
     ]
    }
   ],
   "source": [
    "a = d.loc[d['date'].dt.year==2009,['volume']].max()\n",
    "b= d.loc[d['date'].dt.year==2009,[\"volume\"]].min()\n",
    "print(\"maximum Number of contracts traded during the 2009 is\",a)\n",
    "print(\"minimum Number of contracts traded during the 2009 is\",b)"
   ]
  },
  {
   "cell_type": "markdown",
   "id": "6a211c56",
   "metadata": {},
   "source": [
    "# 5.Which year have maximum and minimum Number of contracts traded\n"
   ]
  },
  {
   "cell_type": "code",
   "execution_count": 26,
   "id": "a6365210",
   "metadata": {},
   "outputs": [
    {
     "name": "stdout",
     "output_type": "stream",
     "text": [
      "Maximum            date\n",
      "4216 2017-06-07\n",
      "Minimum             date\n",
      "821   2003-12-11\n",
      "1328  2005-12-13\n",
      "4486  2018-07-03\n",
      "4528  2018-08-31\n",
      "5682  2023-04-06\n",
      "...          ...\n",
      "29219 2001-03-13\n",
      "30306 2005-07-12\n",
      "33573 2018-07-03\n",
      "33615 2018-08-31\n",
      "34771 2023-04-06\n",
      "\n",
      "[2812 rows x 1 columns]\n"
     ]
    }
   ],
   "source": [
    "print('Maximum',d.loc[d['volume']==d['volume'].max(),['date']])\n",
    "print('Minimum',d.loc[d['volume']==d['volume'].min(),['date']])"
   ]
  },
  {
   "cell_type": "markdown",
   "id": "eaa25b85",
   "metadata": {},
   "source": [
    "# 6. Which commodity have the average lowest opening price around 2001 to 2005"
   ]
  },
  {
   "cell_type": "code",
   "execution_count": 27,
   "id": "37190b7c",
   "metadata": {},
   "outputs": [
    {
     "data": {
      "text/plain": [
       "commodity    Corn\n",
       "open         14.4\n",
       "dtype: object"
      ]
     },
     "execution_count": 27,
     "metadata": {},
     "output_type": "execute_result"
    }
   ],
   "source": [
    "b=d.loc[(d['date'].dt.year>=2001) & (d['date'].dt.year<=2005),['commodity','open']]\n",
    "b.groupby('commodity')['open'].min()\n",
    "b.min()"
   ]
  },
  {
   "cell_type": "markdown",
   "id": "1e39ddf1",
   "metadata": {},
   "source": [
    "# 7. Which commodity have the best average Market's closing price"
   ]
  },
  {
   "cell_type": "code",
   "execution_count": 28,
   "id": "7b234583",
   "metadata": {},
   "outputs": [
    {
     "data": {
      "text/plain": [
       "'Rough Rice'"
      ]
     },
     "execution_count": 28,
     "metadata": {},
     "output_type": "execute_result"
    }
   ],
   "source": [
    "a=d.groupby(\"commodity\")['close'].mean()\n",
    "a.idxmax()\n"
   ]
  },
  {
   "cell_type": "code",
   "execution_count": 29,
   "id": "2165e80b",
   "metadata": {},
   "outputs": [
    {
     "data": {
      "text/plain": [
       "array(['Corn', 'Oat', 'KC HRW Wheat', 'Rough Rice', 'Soybean Oil',\n",
       "       'Soybean'], dtype=object)"
      ]
     },
     "execution_count": 29,
     "metadata": {},
     "output_type": "execute_result"
    }
   ],
   "source": [
    "data['commodity'].unique()"
   ]
  },
  {
   "cell_type": "code",
   "execution_count": 30,
   "id": "a1b020af",
   "metadata": {},
   "outputs": [
    {
     "name": "stdout",
     "output_type": "stream",
     "text": [
      "Corn close    409.404772\n",
      "dtype: float64\n",
      "Oat close    278.657674\n",
      "dtype: float64\n",
      "KC HRW Wheat close    563.693282\n",
      "dtype: float64\n",
      "Rough Rice close    1143.607925\n",
      "dtype: float64\n",
      "Soybean Oil close    36.820361\n",
      "dtype: float64\n",
      "Soybean close    998.015728\n",
      "dtype: float64\n"
     ]
    }
   ],
   "source": [
    "print('Corn',data.loc[data['commodity']=='Corn',['close']].mean())\n",
    "print('Oat',data.loc[data['commodity']=='Oat',['close']].mean())\n",
    "print('KC HRW Wheat',data.loc[data['commodity']=='KC HRW Wheat',['close']].mean())\n",
    "print('Rough Rice',data.loc[data['commodity']=='Rough Rice',['close']].mean())\n",
    "print('Soybean Oil',data.loc[data['commodity']=='Soybean Oil',['close']].mean())\n",
    "print('Soybean',data.loc[data['commodity']=='Soybean',['close']].mean())\n"
   ]
  },
  {
   "cell_type": "markdown",
   "id": "3b2135e4",
   "metadata": {},
   "source": [
    "# 8. Which year corn have the highest and lowest Number of contracts traded\n"
   ]
  },
  {
   "cell_type": "code",
   "execution_count": 31,
   "id": "50e826a5",
   "metadata": {},
   "outputs": [
    {
     "name": "stdout",
     "output_type": "stream",
     "text": [
      "Highest volume                 523849\n",
      "date      2023-09-15 00:00:00\n",
      "dtype: object\n",
      "Lowest volume                      0\n",
      "date      2000-07-17 00:00:00\n",
      "dtype: object\n"
     ]
    }
   ],
   "source": [
    "print('Highest',data.loc[data['commodity']=='Corn',['volume','date']].max())\n",
    "print('Lowest',data.loc[data['commodity']=='Corn',['volume','date']].min())"
   ]
  },
  {
   "cell_type": "code",
   "execution_count": null,
   "id": "7a1c5fe4",
   "metadata": {},
   "outputs": [],
   "source": []
  }
 ],
 "metadata": {
  "kernelspec": {
   "display_name": "Python 3 (ipykernel)",
   "language": "python",
   "name": "python3"
  },
  "language_info": {
   "codemirror_mode": {
    "name": "ipython",
    "version": 3
   },
   "file_extension": ".py",
   "mimetype": "text/x-python",
   "name": "python",
   "nbconvert_exporter": "python",
   "pygments_lexer": "ipython3",
   "version": "3.11.3"
  }
 },
 "nbformat": 4,
 "nbformat_minor": 5
}
